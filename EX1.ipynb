{
  "nbformat": 4,
  "nbformat_minor": 0,
  "metadata": {
    "colab": {
      "provenance": []
    },
    "kernelspec": {
      "name": "python3",
      "display_name": "Python 3"
    },
    "language_info": {
      "name": "python"
    }
  },
  "cells": [
    {
      "cell_type": "code",
      "execution_count": null,
      "metadata": {
        "colab": {
          "base_uri": "https://localhost:8080/"
        },
        "id": "S_BhFBZ9F23d",
        "outputId": "a214b4ea-7bd7-4d76-e2fe-5d70e515888e"
      },
      "outputs": [
        {
          "output_type": "stream",
          "name": "stdout",
          "text": [
            "11 is a prime number\n"
          ]
        }
      ],
      "source": [
        "# Python program to check if a number is prime\n",
        "num = 11\n",
        "if num > 1:\n",
        "\n",
        "    for i in range(2, (num//2)+1):\n",
        "\n",
        "        if (num % i) == 0:\n",
        "            print(num, \"is not a prime number\")\n",
        "            break\n",
        "    else:\n",
        "        print(num, \"is a prime number\")\n",
        "else:\n",
        "    print(num, \"is not a prime number\")"
      ]
    },
    {
      "cell_type": "code",
      "source": [
        "# Fibonacci sequence generator using recursion.\n",
        "def fibo(n, prev1, prev2):\n",
        "    if n < 3:\n",
        "        return\n",
        "    fn = prev1 + prev2\n",
        "    prev2 = prev1\n",
        "    prev1 = fn\n",
        "    print(fn, end=\" \")\n",
        "    fibo(n - 1, prev1, prev2)\n",
        "\n",
        "def print_fibo(n):\n",
        "    if n < 1:\n",
        "        print(\"Invalid number of terms\")\n",
        "    elif n == 1:\n",
        "        print(0)\n",
        "    elif n == 2:\n",
        "        print(\"0 1\")\n",
        "    else:\n",
        "        print(\"0 1\", end=\" \")\n",
        "        fibo(n, 1, 0)\n",
        "\n",
        "if __name__ == \"__main__\":\n",
        "    n = 12\n",
        "    # Function call\n",
        "    print_fibo(n)"
      ],
      "metadata": {
        "colab": {
          "base_uri": "https://localhost:8080/"
        },
        "id": "xkQg-HU8Gr1q",
        "outputId": "7b322017-ba88-44d8-c61a-048e40c02351"
      },
      "execution_count": null,
      "outputs": [
        {
          "output_type": "stream",
          "name": "stdout",
          "text": [
            "0 1 1 2 3 5 8 13 21 34 55 89 "
          ]
        }
      ]
    },
    {
      "cell_type": "code",
      "source": [
        "#function to find the Greatest Common Divisor (GCD) and Least Common Multiple (LCM) of two numbers.\n",
        "def gcd(a, b):\n",
        "  if(b==0):\n",
        "    return a\n",
        "  else:\n",
        "    return gcd(b, a%b)\n",
        "a = int(input(\"enter a value\"))\n",
        "b = int(input(\"enter b value\"))\n",
        "print(\" the GCD of given numbers is:\")\n",
        "print(gcd(a,b))"
      ],
      "metadata": {
        "id": "2SSIIFKgHZBr",
        "outputId": "5ab5a838-b70b-4131-e6da-3fdefb748c11",
        "colab": {
          "base_uri": "https://localhost:8080/"
        }
      },
      "execution_count": null,
      "outputs": [
        {
          "name": "stdout",
          "output_type": "stream",
          "text": [
            "enter a value5\n",
            "enter b value6\n"
          ]
        }
      ]
    },
    {
      "cell_type": "code",
      "source": [
        "#simple calculator using functions\n",
        "def add(num1, num2):\n",
        "  return num1 + num2\n",
        "def subtract(num1, num2):\n",
        "  return num1 - num2\n",
        "def multiply(num1, num2):\n",
        "  return num1 * num2\n",
        "def divide(num1, num2):\n",
        "  return num1 / num2\n",
        "print(\"Please select operation -\\n 1. Add\\n 2. Subtract\\n 3. Multiply\\n 4. Divide\\n\")\n",
        "choice = int(input(\"Select operations form 1, 2, 3, 4 :\"))\n",
        "a = int(input(\"Enter first number: \"))\n",
        "b = int(input(\"Enter second number: \"))\n",
        "if choice == 1:\n",
        "    print(\"result after addition is\",add(a,b))\n",
        "elif choice == 2:\n",
        "        print(\"result after subtraction is\", subtract(a,b))\n",
        "elif choice == 3:\n",
        "    print(\"result after multiplication is\" , multiply(a,b))\n",
        "elif choice== 4:\n",
        "    print(\"result after division is\", divide(a,b))\n",
        "else:\n",
        "    print(\"Invalid input\")"
      ],
      "metadata": {
        "colab": {
          "base_uri": "https://localhost:8080/"
        },
        "id": "l16ruXk2ISV9",
        "outputId": "306c2ad5-b784-42a2-9e4b-8b3e44117c26"
      },
      "execution_count": null,
      "outputs": [
        {
          "output_type": "stream",
          "name": "stdout",
          "text": [
            "Please select operation -\n",
            " 1. Add\n",
            " 2. Subtract\n",
            " 3. Multiply\n",
            " 4. Divide\n",
            "\n",
            "Select operations form 1, 2, 3, 4 :1\n",
            "Enter first number: 20\n",
            "Enter second number: 30\n",
            "result after addition is 50\n"
          ]
        }
      ]
    },
    {
      "cell_type": "code",
      "source": [
        "#numpy for matrix's operations\n",
        "import numpy\n",
        "\n",
        "# initializing matrices\n",
        "x = numpy.array([[1, 2], [4, 5]])\n",
        "y = numpy.array([[7, 8], [9, 10]])\n",
        "\n",
        "# using multiply() to multiply matrices element wise\n",
        "print (\"The element wise multiplication of matrix is :\")\n",
        "print (numpy.multiply(x,y))\n",
        "\n",
        "# using dot() to multiply matrices\n",
        "print (\"The product of matrices is : \")\n",
        "print (numpy.dot(x,y))"
      ],
      "metadata": {
        "colab": {
          "base_uri": "https://localhost:8080/"
        },
        "id": "4Ge1IL6Bwl_Z",
        "outputId": "aceadb24-1b6b-4396-d352-bdbdeef7fcf0"
      },
      "execution_count": null,
      "outputs": [
        {
          "output_type": "stream",
          "name": "stdout",
          "text": [
            "The element wise multiplication of matrix is :\n",
            "[[ 7 16]\n",
            " [36 50]]\n",
            "The product of matrices is : \n",
            "[[25 28]\n",
            " [73 82]]\n"
          ]
        }
      ]
    },
    {
      "cell_type": "code",
      "source": [
        "#removes duplicates from a list\n",
        "a = [1, 2, 2, 3, 4, 4, 5]\n",
        "\n",
        "unique_list = list(set(a))\n",
        "print(unique_list)"
      ],
      "metadata": {
        "colab": {
          "base_uri": "https://localhost:8080/"
        },
        "id": "ax4ycZRqI64c",
        "outputId": "f5edaa34-008f-45ad-d597-c5b841614a9c"
      },
      "execution_count": null,
      "outputs": [
        {
          "output_type": "stream",
          "name": "stdout",
          "text": [
            "[1, 2, 3, 4, 5]\n"
          ]
        }
      ]
    },
    {
      "cell_type": "code",
      "source": [
        "import string\n",
        "import random\n",
        "\n",
        "# Getting password length\n",
        "length = int(input(\"Enter password length: \"))\n",
        "\n",
        "print('''Choose character set for password from these :\n",
        "\t\t1. Digits\n",
        "\t\t2. Letters\n",
        "\t\t3. Special characters\n",
        "\t\t4. Exit''')\n",
        "\n",
        "characterList = \"\"\n",
        "\n",
        "# Getting character set for password\n",
        "while(True):\n",
        "\tchoice = int(input(\"Pick a number \"))\n",
        "\tif(choice == 1):\n",
        "\n",
        "\t\t# Adding letters to possible characters\n",
        "\t\tcharacterList += string.ascii_letters\n",
        "\telif(choice == 2):\n",
        "\n",
        "\t\t# Adding digits to possible characters\n",
        "\t\tcharacterList += string.digits\n",
        "\telif(choice == 3):\n",
        "\n",
        "\t\t# Adding special characters to possible\n",
        "\t\t# characters\n",
        "\t\tcharacterList += string.punctuation\n",
        "\telif(choice == 4):\n",
        "\t\tbreak\n",
        "\telse:\n",
        "\t\tprint(\"Please pick a valid option!\")\n",
        "\n",
        "password = []\n",
        "\n",
        "for i in range(length):\n",
        "\n",
        "\t# Picking a random character from our\n",
        "\t# character list\n",
        "\trandomchar = random.choice(characterList)\n",
        "\n",
        "\t# appending a random character to password\n",
        "\tpassword.append(randomchar)\n",
        "\n",
        "# printing password as a string\n",
        "print(\"The random password is \" + \"\".join(password))\n"
      ],
      "metadata": {
        "colab": {
          "base_uri": "https://localhost:8080/"
        },
        "id": "gZ5m3jsXxGmU",
        "outputId": "275ed545-17f4-434f-8b67-641a9a4bd62e"
      },
      "execution_count": null,
      "outputs": [
        {
          "output_type": "stream",
          "name": "stdout",
          "text": [
            "Enter password length: 6\n",
            "Choose character set for password from these : \n",
            "\t\t1. Digits\n",
            "\t\t2. Letters\n",
            "\t\t3. Special characters\n",
            "\t\t4. Exit\n",
            "Pick a number 2\n",
            "Pick a number 1\n",
            "Pick a number 3\n",
            "Pick a number 4\n",
            "The random password is =Je]6h\n"
          ]
        }
      ]
    }
  ]
}